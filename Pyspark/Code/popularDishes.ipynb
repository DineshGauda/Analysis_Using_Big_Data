{
 "cells": [
  {
   "cell_type": "code",
   "execution_count": 98,
   "metadata": {},
   "outputs": [],
   "source": [
    "import re\n",
    "import pdb\n",
    "from numpy import *\n",
    "from pandas import *\n",
    "import pyspark\n",
    "from pyspark.sql.functions import split\n",
    "from pyspark.sql import SQLContext\n",
    "sqlContext = SQLContext(sc)"
   ]
  },
  {
   "cell_type": "code",
   "execution_count": 99,
   "metadata": {
    "scrolled": true
   },
   "outputs": [
    {
     "name": "stdout",
     "output_type": "stream",
     "text": [
      "+--------------------+----------+-----+--------------------+--------------------+--------------------+\n",
      "|                text|      date|likes|         business_id|             user_id|       business_name|\n",
      "+--------------------+----------+-----+--------------------+--------------------+--------------------+\n",
      "|Happy hour 5 7 Mo...|2016-10-12|    0|dAa0hB2yrnHzVmsCk...|ulQ8Nyj7jCUR8M83S...|        Rock Run Inn|\n",
      "|Come early on Sun...|2016-07-03|    0|SqW3igh1_Png336VI...|ulQ8Nyj7jCUR8M83S...|           Bob Evans|\n",
      "|    Love their soup |2016-01-07|    0|KNpcPGqDORDdvtekX...|ulQ8Nyj7jCUR8M83S...|Carriage Inn Rest...|\n",
      "|Soups are fantastic |2016-05-22|    0|KNpcPGqDORDdvtekX...|ulQ8Nyj7jCUR8M83S...|Carriage Inn Rest...|\n",
      "|Thursday night is...|2016-06-09|    0|KNpcPGqDORDdvtekX...|ulQ8Nyj7jCUR8M83S...|Carriage Inn Rest...|\n",
      "|Very good for lun...|2016-06-01|    0|8qNOI6Q1-rJrvWWD5...|ulQ8Nyj7jCUR8M83S...|Luciano's Italian...|\n",
      "|Tuesday spaghetti...|2016-06-14|    0|8qNOI6Q1-rJrvWWD5...|ulQ8Nyj7jCUR8M83S...|Luciano's Italian...|\n",
      "|Sunday $ 55 bone ...|2016-08-22|    0|--ujyvoQlwVoBgMYt...|ulQ8Nyj7jCUR8M83S...|      Primanti Bros.|\n",
      "|Nice happy hour m...|2016-06-13|    0|Tl_jT2a0bRMac5_YW...|ulQ8Nyj7jCUR8M83S...|  Buffalo Wild Wings|\n",
      "|Always have somet...|2016-06-30|    0|Tl_jT2a0bRMac5_YW...|ulQ8Nyj7jCUR8M83S...|  Buffalo Wild Wings|\n",
      "|Double wide does ...|2016-02-11|    0|zJwm3DThV4WUIkyNv...|ulQ8Nyj7jCUR8M83S...|   Double Wide Grill|\n",
      "|It s Primanti  nu...|2016-09-11|    0|JzB7NITHQ7gVHGVZ1...|ObtNPACE7Cv07k9t7...|      Primanti Bros.|\n",
      "|Get the ice tea w...|2016-04-18|    0|SurnOSM2bVVN4-Js3...|QGgWWhEi5R4SLAKN-...|     House of Tricks|\n",
      "|Yum      Yum     ...|2016-06-13|    0|JzB7NITHQ7gVHGVZ1...|bMBJlqFfwslLXJmoM...|      Primanti Bros.|\n",
      "|Favorite place to...|2016-12-24|    0|JzB7NITHQ7gVHGVZ1...|0l1I3fu22Aec8S5VG...|      Primanti Bros.|\n",
      "|Don t do the driv...|2016-07-08|    0|7FxdbDj8smpkpmmgy...|0l1I3fu22Aec8S5VG...|           Taco Bell|\n",
      "|Is this place eve...|2016-07-06|    0|mTPC_emDlTlfwr5o8...|s1WJ1wVeA0Ot2e8yn...|Hing Wong Chinese...|\n",
      "|automobile hygien...|2016-06-12|    0|OmnFXovjCVVlqhPt9...|PZNMPWCViVX8JLsn1...|     Auto Bath House|\n",
      "|Labor shortage   ...|2016-07-16|    0|OmnFXovjCVVlqhPt9...|PZNMPWCViVX8JLsn1...|     Auto Bath House|\n",
      "|Valley of Fire To...|2016-04-11|    0|KPgyqG3MyFUDK7GRb...|PZNMPWCViVX8JLsn1...|     Pink Jeep Tours|\n",
      "+--------------------+----------+-----+--------------------+--------------------+--------------------+\n",
      "only showing top 20 rows\n",
      "\n"
     ]
    }
   ],
   "source": [
    "tipDF = spark.read.csv(\"gs://pda-yelp-bucket/input/tip/tip.csv\",header='true')\n",
    "tipDF.show()"
   ]
  },
  {
   "cell_type": "code",
   "execution_count": 100,
   "metadata": {},
   "outputs": [],
   "source": [
    "tipDF=tipDF.select('business_id','business_name','text')"
   ]
  },
  {
   "cell_type": "code",
   "execution_count": null,
   "metadata": {},
   "outputs": [],
   "source": [
    "tipDF.columns\n",
    "tipDF.select('business_id').count()"
   ]
  },
  {
   "cell_type": "code",
   "execution_count": 103,
   "metadata": {},
   "outputs": [
    {
     "name": "stdout",
     "output_type": "stream",
     "text": [
      "+--------------------+--------------------+--------------------+\n",
      "|         business_id|       business_name|                text|\n",
      "+--------------------+--------------------+--------------------+\n",
      "|dAa0hB2yrnHzVmsCk...|        Rock Run Inn|happy hour   mond...|\n",
      "|SqW3igh1_Png336VI...|           Bob Evans|come early on sun...|\n",
      "|KNpcPGqDORDdvtekX...|Carriage Inn Rest...|    love their soup |\n",
      "|KNpcPGqDORDdvtekX...|Carriage Inn Rest...|soups are fantastic |\n",
      "|KNpcPGqDORDdvtekX...|Carriage Inn Rest...|thursday night is...|\n",
      "+--------------------+--------------------+--------------------+\n",
      "only showing top 5 rows\n",
      "\n"
     ]
    }
   ],
   "source": [
    "from pyspark.sql import SparkSession\n",
    "from pyspark.sql.functions import udf, col, lower, regexp_replace\n",
    "from pyspark.ml.feature import Tokenizer, StopWordsRemover\n",
    "\n",
    "# Clean text\n",
    "tipDF = tipDF.select('business_id', 'business_name', (lower(regexp_replace('text', \"[^a-zA-Z\\\\s]\", \"\")).alias('text')))\n",
    "\n",
    "tipDF.show(5)"
   ]
  },
  {
   "cell_type": "code",
   "execution_count": 130,
   "metadata": {
    "scrolled": true
   },
   "outputs": [
    {
     "name": "stdout",
     "output_type": "stream",
     "text": [
      "+--------------------+--------------+\n",
      "|         business_id|          city|\n",
      "+--------------------+--------------+\n",
      "|FYWN1wneV18bWNgQj...|     Ahwatukee|\n",
      "|He-G7vWjzVUysIKrf...|      McMurray|\n",
      "|KQPW8lFf1y5BT2Mxi...|       Phoenix|\n",
      "|8DShNS-LuFqpEWIp0...|         Tempe|\n",
      "|PfOCPjBrlQAnz__NX...|Cuyahoga Falls|\n",
      "+--------------------+--------------+\n",
      "only showing top 5 rows\n",
      "\n"
     ]
    }
   ],
   "source": [
    "businessDF = spark.read.csv(\"gs://pda-yelp-bucket/input/business/business.csv\",header='true')\n",
    "businessDF = businessDF.select('business_id', 'city')\n",
    "businessDF.show(5)"
   ]
  },
  {
   "cell_type": "code",
   "execution_count": 131,
   "metadata": {},
   "outputs": [],
   "source": [
    "food_list=['pasta','pizza','burger','banana cream pie','salad','truffle','salmon steak','steak','chips','sizzler','icecream','spaghetti','ice cream','salad','chinese','dimsum','pie','fries','noodle','pudding','pancake','brownie','sushi','eggroll','bacon and eggs','french toast','porridge','biryani','apple pie','hamburger','clam chowder','barbecue','taco','fajita','salmon','meatloaf','macaroni','crabcake','sandwich','popcorn','waffle','enchiladas','lobster','buffalo wing','cookie','soups','nacho','hot dog','cheeseburger','soup']"
   ]
  },
  {
   "cell_type": "code",
   "execution_count": 132,
   "metadata": {},
   "outputs": [
    {
     "name": "stdout",
     "output_type": "stream",
     "text": [
      "+--------------------+---------+--------------------+--------------------+\n",
      "|         business_id|     city|       business_name|                text|\n",
      "+--------------------+---------+--------------------+--------------------+\n",
      "|--9e1ONYQuAa-CB_R...|Las Vegas|Delmonico Steakhouse|don t leave witho...|\n",
      "|--9e1ONYQuAa-CB_R...|Las Vegas|Delmonico Steakhouse| currently closed...|\n",
      "|--9e1ONYQuAa-CB_R...|Las Vegas|Delmonico Steakhouse|truffle   parmesa...|\n",
      "|--9e1ONYQuAa-CB_R...|Las Vegas|Delmonico Steakhouse|make sure you sav...|\n",
      "|--9e1ONYQuAa-CB_R...|Las Vegas|Delmonico Steakhouse|restaurant week  ...|\n",
      "+--------------------+---------+--------------------+--------------------+\n",
      "only showing top 5 rows\n",
      "\n"
     ]
    }
   ],
   "source": [
    "new_df = businessDF.join(tipDF, on=['business_id'], how='left_outer')\n",
    "new_df.show(5)"
   ]
  },
  {
   "cell_type": "code",
   "execution_count": 133,
   "metadata": {},
   "outputs": [
    {
     "name": "stdout",
     "output_type": "stream",
     "text": [
      "+--------------------+---------+--------------------+--------------------+\n",
      "|         business_id|     city|       business_name|                text|\n",
      "+--------------------+---------+--------------------+--------------------+\n",
      "|KNpcPGqDORDdvtekX...|Elizabeth|Carriage Inn Rest...|    love their soup |\n",
      "|KNpcPGqDORDdvtekX...|Elizabeth|Carriage Inn Rest...|soups are fantastic |\n",
      "|KNpcPGqDORDdvtekX...|Elizabeth|Carriage Inn Rest...|thursday night is...|\n",
      "|8qNOI6Q1-rJrvWWD5...|White Oak|Luciano's Italian...|very good for lun...|\n",
      "|8qNOI6Q1-rJrvWWD5...|White Oak|Luciano's Italian...|tuesday spaghetti...|\n",
      "+--------------------+---------+--------------------+--------------------+\n",
      "only showing top 5 rows\n",
      "\n"
     ]
    }
   ],
   "source": [
    "import pyspark.sql.functions as psf\n",
    "new_df.filter(psf.col('text').rlike('(^|\\s)(' + '|'.join(food_list) + ')(\\s|$)')).show(5)"
   ]
  },
  {
   "cell_type": "code",
   "execution_count": 136,
   "metadata": {},
   "outputs": [],
   "source": [
    "final_df=new_df.withColumn(\n",
    "        'top_dishes', \n",
    "        psf.regexp_extract('text', '(?=^|\\s)(' + '|'.join(food_list) + ')(?=\\s|$)', 0))\\"
   ]
  },
  {
   "cell_type": "code",
   "execution_count": 137,
   "metadata": {},
   "outputs": [
    {
     "name": "stdout",
     "output_type": "stream",
     "text": [
      "+--------------------+--------------------+---------+--------------------+----------+\n",
      "|         business_id|       business_name|     city|                text|top_dishes|\n",
      "+--------------------+--------------------+---------+--------------------+----------+\n",
      "|--9e1ONYQuAa-CB_R...|Delmonico Steakhouse|Las Vegas|don t leave witho...|          |\n",
      "|--9e1ONYQuAa-CB_R...|Delmonico Steakhouse|Las Vegas| currently closed...|          |\n",
      "|--9e1ONYQuAa-CB_R...|Delmonico Steakhouse|Las Vegas|truffle   parmesa...|   truffle|\n",
      "|--9e1ONYQuAa-CB_R...|Delmonico Steakhouse|Las Vegas|make sure you sav...|          |\n",
      "|--9e1ONYQuAa-CB_R...|Delmonico Steakhouse|Las Vegas|restaurant week  ...|          |\n",
      "+--------------------+--------------------+---------+--------------------+----------+\n",
      "only showing top 5 rows\n",
      "\n"
     ]
    }
   ],
   "source": [
    "final_df = final_df.select('business_id', 'business_name', 'city', 'text', 'top_dishes')\n",
    "final_df.show(5)"
   ]
  },
  {
   "cell_type": "code",
   "execution_count": 138,
   "metadata": {},
   "outputs": [],
   "source": [
    "final_df = final_df.select('business_id', 'business_name', 'city', 'top_dishes')\n",
    "outputpath=\"gs://pda-yelp-bucket/output/topDishes/\""
   ]
  },
  {
   "cell_type": "code",
   "execution_count": 139,
   "metadata": {},
   "outputs": [],
   "source": [
    "final_df.coalesce(1).write.save(outputpath,sep=\",\",mode=\"append\",format=\"csv\",header=\"TRUE\")"
   ]
  },
  {
   "cell_type": "code",
   "execution_count": null,
   "metadata": {},
   "outputs": [],
   "source": []
  }
 ],
 "metadata": {
  "kernelspec": {
   "display_name": "PySpark",
   "language": "python",
   "name": "pyspark"
  },
  "language_info": {
   "codemirror_mode": {
    "name": "ipython",
    "version": 2
   },
   "file_extension": ".py",
   "mimetype": "text/x-python",
   "name": "python",
   "nbconvert_exporter": "python",
   "pygments_lexer": "ipython2",
   "version": "2.7.14"
  }
 },
 "nbformat": 4,
 "nbformat_minor": 2
}