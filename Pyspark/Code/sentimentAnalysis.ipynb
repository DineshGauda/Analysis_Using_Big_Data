{
 "cells": [
  {
   "cell_type": "code",
   "execution_count": 143,
   "metadata": {},
   "outputs": [],
   "source": [
    "sc.master\n",
    "import re\n",
    "from operator import add"
   ]
  },
  {
   "cell_type": "code",
   "execution_count": 144,
   "metadata": {},
   "outputs": [
    {
     "data": {
      "text/plain": [
       "pyspark.context.SparkContext"
      ]
     },
     "execution_count": 144,
     "metadata": {},
     "output_type": "execute_result"
    }
   ],
   "source": [
    "type(sc)"
   ]
  },
  {
   "cell_type": "code",
   "execution_count": 187,
   "metadata": {
    "scrolled": true
   },
   "outputs": [
    {
     "name": "stdout",
     "output_type": "stream",
     "text": [
      "+--------------------+--------------------+--------------------+-----+----------+--------------------+------+-----+----+----+--------------------+\n",
      "|           review_id|             user_id|         business_id|stars|      date|                text|useful|funny|cool|year|       business_name|\n",
      "+--------------------+--------------------+--------------------+-----+----------+--------------------+------+-----+----+----+--------------------+\n",
      "|vkVSCC7xljjrAI4UG...|bv2nCi5Qv5vroFiqK...|AEx2SYEUJmTxVVB18...|    5|2016-05-28|Super simple plac...|     0|    0|   0|2016|          Wilensky's|\n",
      "|n6QzIUObkYshz4dz2...|bv2nCi5Qv5vroFiqK...|VR6GpWIda3SfvPC-l...|    5|2016-05-28|Small unassuming ...|     0|    0|   0|2016|           Tuck Shop|\n",
      "|MV3CcKScW05u5LVfF...|bv2nCi5Qv5vroFiqK...|CKC0-MOWMqoeWf6s-...|    5|2016-05-28|Lester s is locat...|     0|    0|   0|2016|       Lester's Deli|\n",
      "|IXvOzsEMYtiJI0CAR...|bv2nCi5Qv5vroFiqK...|ACFtxLv8pGrrxMm6E...|    4|2016-05-28|Love coming here ...|     0|    0|   0|2016|           Five Guys|\n",
      "|L_9BTb55X0GDtThi6...|bv2nCi5Qv5vroFiqK...|s2I_Ni76bjJNK9yG6...|    4|2016-05-28|Had their chocola...|     0|    0|   0|2016|Maison Christian ...|\n",
      "+--------------------+--------------------+--------------------+-----+----------+--------------------+------+-----+----+----+--------------------+\n",
      "only showing top 5 rows\n",
      "\n"
     ]
    }
   ],
   "source": [
    "reviewsDF = spark.read.csv(\"gs://pda-yelp-bucket/input/review/review.csv\",header='true')\n",
    "reviewsDF.show(5)"
   ]
  },
  {
   "cell_type": "code",
   "execution_count": 188,
   "metadata": {},
   "outputs": [
    {
     "name": "stdout",
     "output_type": "stream",
     "text": [
      "+--------------------+--------------------+--------------------+-----+----------+--------------------+\n",
      "|           review_id|         business_id|       business_name|stars|      date|                text|\n",
      "+--------------------+--------------------+--------------------+-----+----------+--------------------+\n",
      "|vkVSCC7xljjrAI4UG...|AEx2SYEUJmTxVVB18...|          Wilensky's|    5|2016-05-28|Super simple plac...|\n",
      "|n6QzIUObkYshz4dz2...|VR6GpWIda3SfvPC-l...|           Tuck Shop|    5|2016-05-28|Small unassuming ...|\n",
      "|MV3CcKScW05u5LVfF...|CKC0-MOWMqoeWf6s-...|       Lester's Deli|    5|2016-05-28|Lester s is locat...|\n",
      "|IXvOzsEMYtiJI0CAR...|ACFtxLv8pGrrxMm6E...|           Five Guys|    4|2016-05-28|Love coming here ...|\n",
      "|L_9BTb55X0GDtThi6...|s2I_Ni76bjJNK9yG6...|Maison Christian ...|    4|2016-05-28|Had their chocola...|\n",
      "+--------------------+--------------------+--------------------+-----+----------+--------------------+\n",
      "only showing top 5 rows\n",
      "\n"
     ]
    }
   ],
   "source": [
    "reviewsDF = reviewsDF.select('review_id', 'business_id', 'business_name', 'stars', 'date', 'text')\n",
    "reviewsDF.show(5)"
   ]
  },
  {
   "cell_type": "code",
   "execution_count": 189,
   "metadata": {},
   "outputs": [
    {
     "data": {
      "text/plain": [
       "631867"
      ]
     },
     "execution_count": 189,
     "metadata": {},
     "output_type": "execute_result"
    }
   ],
   "source": [
    "reviewsDF.select('business_id').count()"
   ]
  },
  {
   "cell_type": "code",
   "execution_count": 147,
   "metadata": {},
   "outputs": [],
   "source": [
    "from pyspark.sql import SQLContext"
   ]
  },
  {
   "cell_type": "code",
   "execution_count": 148,
   "metadata": {},
   "outputs": [],
   "source": [
    "from pyspark.sql.types import *"
   ]
  },
  {
   "cell_type": "code",
   "execution_count": 149,
   "metadata": {},
   "outputs": [],
   "source": [
    "sqlContext = SQLContext(sc)"
   ]
  },
  {
   "cell_type": "code",
   "execution_count": 150,
   "metadata": {},
   "outputs": [],
   "source": [
    "from pyspark.sql import functions as fn"
   ]
  },
  {
   "cell_type": "code",
   "execution_count": 151,
   "metadata": {},
   "outputs": [
    {
     "name": "stdout",
     "output_type": "stream",
     "text": [
      "--2019-04-26 00:02:41--  https://github.com/daniel-acuna/python_data_science_intro/blob/master/data/sentiments.parquet.zip?raw=true\n",
      "Resolving github.com (github.com)... 192.30.253.112, 192.30.253.113\n",
      "Connecting to github.com (github.com)|192.30.253.112|:443... connected.\n",
      "HTTP request sent, awaiting response... 302 Found\n",
      "Location: https://github.com/daniel-acuna/python_data_science_intro/raw/master/data/sentiments.parquet.zip [following]\n",
      "--2019-04-26 00:02:41--  https://github.com/daniel-acuna/python_data_science_intro/raw/master/data/sentiments.parquet.zip\n",
      "Reusing existing connection to github.com:443.\n",
      "HTTP request sent, awaiting response... 302 Found\n",
      "Location: https://raw.githubusercontent.com/daniel-acuna/python_data_science_intro/master/data/sentiments.parquet.zip [following]\n",
      "--2019-04-26 00:02:41--  https://raw.githubusercontent.com/daniel-acuna/python_data_science_intro/master/data/sentiments.parquet.zip\n",
      "Resolving raw.githubusercontent.com (raw.githubusercontent.com)... 151.101.0.133, 151.101.64.133, 151.101.128.133, ...\n",
      "Connecting to raw.githubusercontent.com (raw.githubusercontent.com)|151.101.0.133|:443... connected.\n",
      "HTTP request sent, awaiting response... 200 OK\n",
      "Length: 38387 (37K) [application/zip]\n",
      "Saving to: ‘sentiments.parquet.zip’\n",
      "\n",
      "sentiments.parquet. 100%[===================>]  37.49K  --.-KB/s    in 0.01s   \n",
      "\n",
      "2019-04-26 00:02:41 (3.56 MB/s) - ‘sentiments.parquet.zip’ saved [38387/38387]\n",
      "\n",
      "Archive:  sentiments.parquet.zip\n",
      "   creating: sentiments.parquet/\n",
      "  inflating: sentiments.parquet/.part-r-00000-e719650f-4cd0-4bf6-b325-d485724c78e8.gz.parquet.crc  \n",
      "  inflating: sentiments.parquet/.part-r-00001-e719650f-4cd0-4bf6-b325-d485724c78e8.gz.parquet.crc  \n",
      "  inflating: sentiments.parquet/.part-r-00002-e719650f-4cd0-4bf6-b325-d485724c78e8.gz.parquet.crc  \n",
      "  inflating: sentiments.parquet/.part-r-00003-e719650f-4cd0-4bf6-b325-d485724c78e8.gz.parquet.crc  \n",
      "  inflating: sentiments.parquet/.part-r-00004-e719650f-4cd0-4bf6-b325-d485724c78e8.gz.parquet.crc  \n",
      "  inflating: sentiments.parquet/.part-r-00005-e719650f-4cd0-4bf6-b325-d485724c78e8.gz.parquet.crc  \n",
      "  inflating: sentiments.parquet/.part-r-00006-e719650f-4cd0-4bf6-b325-d485724c78e8.gz.parquet.crc  \n",
      "  inflating: sentiments.parquet/.part-r-00007-e719650f-4cd0-4bf6-b325-d485724c78e8.gz.parquet.crc  \n",
      "  inflating: sentiments.parquet/_common_metadata  \n",
      "  inflating: sentiments.parquet/_metadata  \n",
      " extracting: sentiments.parquet/_SUCCESS  \n",
      "  inflating: sentiments.parquet/part-r-00000-e719650f-4cd0-4bf6-b325-d485724c78e8.gz.parquet  \n",
      "  inflating: sentiments.parquet/part-r-00001-e719650f-4cd0-4bf6-b325-d485724c78e8.gz.parquet  \n",
      "  inflating: sentiments.parquet/part-r-00002-e719650f-4cd0-4bf6-b325-d485724c78e8.gz.parquet  \n",
      "  inflating: sentiments.parquet/part-r-00003-e719650f-4cd0-4bf6-b325-d485724c78e8.gz.parquet  \n",
      "  inflating: sentiments.parquet/part-r-00004-e719650f-4cd0-4bf6-b325-d485724c78e8.gz.parquet  \n",
      "  inflating: sentiments.parquet/part-r-00005-e719650f-4cd0-4bf6-b325-d485724c78e8.gz.parquet  \n",
      "  inflating: sentiments.parquet/part-r-00006-e719650f-4cd0-4bf6-b325-d485724c78e8.gz.parquet  \n",
      "  inflating: sentiments.parquet/part-r-00007-e719650f-4cd0-4bf6-b325-d485724c78e8.gz.parquet  \n"
     ]
    }
   ],
   "source": [
    "!wget https://github.com/daniel-acuna/python_data_science_intro/blob/master/data/sentiments.parquet.zip?raw=true -O sentiments.parquet.zip && unzip sentiments.parquet.zip && rm sentiments.parquet.zip"
   ]
  },
  {
   "cell_type": "code",
   "execution_count": 153,
   "metadata": {},
   "outputs": [],
   "source": [
    "sentiments_df = sqlContext.read.parquet('hdfs:///sentiments.parquet')"
   ]
  },
  {
   "cell_type": "code",
   "execution_count": 154,
   "metadata": {},
   "outputs": [
    {
     "data": {
      "text/plain": [
       "['word', 'sentiment']"
      ]
     },
     "execution_count": 154,
     "metadata": {},
     "output_type": "execute_result"
    }
   ],
   "source": [
    "sentiments_df.columns"
   ]
  },
  {
   "cell_type": "code",
   "execution_count": 155,
   "metadata": {},
   "outputs": [],
   "source": [
    "from pyspark.ml.feature import RegexTokenizer"
   ]
  },
  {
   "cell_type": "code",
   "execution_count": 156,
   "metadata": {},
   "outputs": [],
   "source": [
    "tokenizer = RegexTokenizer().setGaps(False)\\\n",
    "  .setPattern(\"\\\\p{L}+\")\\\n",
    "  .setInputCol(\"text\")\\\n",
    "  .setOutputCol(\"words\")"
   ]
  },
  {
   "cell_type": "code",
   "execution_count": 190,
   "metadata": {},
   "outputs": [
    {
     "name": "stdout",
     "output_type": "stream",
     "text": [
      "DataFrame[review_id: string, business_id: string, business_name: string, stars: string, date: string, text: string, words: array<string>]\n"
     ]
    }
   ],
   "source": [
    "reviews_words_df = tokenizer.transform(reviewsDF)\n",
    "print(reviews_words_df)"
   ]
  },
  {
   "cell_type": "code",
   "execution_count": 191,
   "metadata": {},
   "outputs": [
    {
     "name": "stdout",
     "output_type": "stream",
     "text": [
      "+--------------------+--------------------+--------------------+-----+----------+--------------------+--------------------+\n",
      "|           review_id|         business_id|       business_name|stars|      date|                text|               words|\n",
      "+--------------------+--------------------+--------------------+-----+----------+--------------------+--------------------+\n",
      "|vkVSCC7xljjrAI4UG...|AEx2SYEUJmTxVVB18...|          Wilensky's|    5|2016-05-28|Super simple plac...|[super, simple, p...|\n",
      "|n6QzIUObkYshz4dz2...|VR6GpWIda3SfvPC-l...|           Tuck Shop|    5|2016-05-28|Small unassuming ...|[small, unassumin...|\n",
      "|MV3CcKScW05u5LVfF...|CKC0-MOWMqoeWf6s-...|       Lester's Deli|    5|2016-05-28|Lester s is locat...|[lester, s, is, l...|\n",
      "|IXvOzsEMYtiJI0CAR...|ACFtxLv8pGrrxMm6E...|           Five Guys|    4|2016-05-28|Love coming here ...|[love, coming, he...|\n",
      "|L_9BTb55X0GDtThi6...|s2I_Ni76bjJNK9yG6...|Maison Christian ...|    4|2016-05-28|Had their chocola...|[had, their, choc...|\n",
      "+--------------------+--------------------+--------------------+-----+----------+--------------------+--------------------+\n",
      "only showing top 5 rows\n",
      "\n"
     ]
    }
   ],
   "source": [
    "reviews_words_df.show(5)"
   ]
  },
  {
   "cell_type": "code",
   "execution_count": 192,
   "metadata": {},
   "outputs": [
    {
     "name": "stdout",
     "output_type": "stream",
     "text": [
      "+--------+--------------------+---------+\n",
      "|    word|           review_id|sentiment|\n",
      "+--------+--------------------+---------+\n",
      "|   super|vkVSCC7xljjrAI4UG...|        1|\n",
      "| amazing|vkVSCC7xljjrAI4UG...|        1|\n",
      "| helpful|vkVSCC7xljjrAI4UG...|        1|\n",
      "|friendly|vkVSCC7xljjrAI4UG...|        1|\n",
      "|    cool|n6QzIUObkYshz4dz2...|        1|\n",
      "+--------+--------------------+---------+\n",
      "only showing top 5 rows\n",
      "\n"
     ]
    }
   ],
   "source": [
    "reviews_word_sentiment_df = reviews_words_df.\\\n",
    "    select('review_id', fn.explode('words').alias('word')).\\\n",
    "    join(sentiments_df, 'word')\n",
    "reviews_word_sentiment_df.show(5)"
   ]
  },
  {
   "cell_type": "code",
   "execution_count": 193,
   "metadata": {},
   "outputs": [
    {
     "name": "stdout",
     "output_type": "stream",
     "text": [
      "+--------------------+------------------+\n",
      "|           review_id|     avg_sentiment|\n",
      "+--------------------+------------------+\n",
      "|eaqMSHRiCGNvCTIZJ...|               1.0|\n",
      "|tYR1xyPllaotWTVtf...|               1.0|\n",
      "|qGAuB1RR5YsCuyoNX...|               0.5|\n",
      "|TvmJUP92QlsTZ-JW7...|               0.8|\n",
      "|BBGhTeVpUIB9uqd0F...|0.5555555555555556|\n",
      "+--------------------+------------------+\n",
      "only showing top 5 rows\n",
      "\n"
     ]
    }
   ],
   "source": [
    "sentiment_prediction_df = reviews_word_sentiment_df.\\\n",
    "    groupBy('review_id').\\\n",
    "    agg(fn.avg('sentiment').alias('avg_sentiment'))\n",
    "sentiment_prediction_df.show(5)"
   ]
  },
  {
   "cell_type": "code",
   "execution_count": 194,
   "metadata": {},
   "outputs": [
    {
     "name": "stdout",
     "output_type": "stream",
     "text": [
      "+--------------------+-------------------+--------------------+--------------------+-----+----------+--------------------+\n",
      "|           review_id|      avg_sentiment|         business_id|       business_name|stars|      date|                text|\n",
      "+--------------------+-------------------+--------------------+--------------------+-----+----------+--------------------+\n",
      "|--Jud58FsHHomDBai...| 0.2727272727272727|OgJ0KxwJcJ9R5bUK0...|         Lux Central|    5|2016-04-10|I m pretty overdu...|\n",
      "|-01ePuKPxMw1bhR4I...| 0.8333333333333334|24Td_CQH1bonWKff1...|Matt's Big Breakfast|    4|2016-05-19|Been eating at Ma...|\n",
      "|-0u6BAh47_WiKXcjY...| 0.7272727272727273|acgqti4AEuMIFUYss...|         Cafe Belong|    3|2016-12-12|3 5 stars        ...|\n",
      "|-1kQanNhit-7B9RBj...|0.06666666666666667|41Kbugm-qmIQTt7un...|Top of Binion's S...|    3|2016-06-01|The great  epic g...|\n",
      "|-2WBhKLf7NU0DffKY...|                1.0|Ec9CBmL3285XkeHaN...|        District One|    4|2016-06-19|Great food  servi...|\n",
      "+--------------------+-------------------+--------------------+--------------------+-----+----------+--------------------+\n",
      "only showing top 5 rows\n",
      "\n"
     ]
    }
   ],
   "source": [
    "reviews_sentiment_df = sentiment_prediction_df.\\\n",
    "    join(reviewsDF, 'review_id')\n",
    "    \n",
    "reviews_sentiment_df.show(5)"
   ]
  },
  {
   "cell_type": "code",
   "execution_count": 196,
   "metadata": {},
   "outputs": [
    {
     "name": "stdout",
     "output_type": "stream",
     "text": [
      "+--------------------+--------------+-----+----------+------------+\n",
      "|         business_id|          city|state|  latitude|   longitude|\n",
      "+--------------------+--------------+-----+----------+------------+\n",
      "|FYWN1wneV18bWNgQj...|     Ahwatukee|   AZ|33.3306902|-111.9785992|\n",
      "|He-G7vWjzVUysIKrf...|      McMurray|   PA|40.2916853| -80.1048999|\n",
      "|KQPW8lFf1y5BT2Mxi...|       Phoenix|   AZ|33.5249025|-112.1153098|\n",
      "|8DShNS-LuFqpEWIp0...|         Tempe|   AZ|33.3831468|-111.9647254|\n",
      "|PfOCPjBrlQAnz__NX...|Cuyahoga Falls|   OH|41.1195346| -81.4756898|\n",
      "+--------------------+--------------+-----+----------+------------+\n",
      "only showing top 5 rows\n",
      "\n"
     ]
    }
   ],
   "source": [
    "businessDF = spark.read.csv(\"gs://pda-yelp-bucket/input/business/business.csv\",header='true')\n",
    "businessDF = businessDF.select('business_id', 'city', 'state','latitude', 'longitude')\n",
    "businessDF.show(5)"
   ]
  },
  {
   "cell_type": "code",
   "execution_count": 197,
   "metadata": {},
   "outputs": [
    {
     "name": "stdout",
     "output_type": "stream",
     "text": [
      "+--------------------+--------------------+------------------+--------------------+-----+----------+--------------------+---------+-----+---------+----------+\n",
      "|         business_id|           review_id|     avg_sentiment|       business_name|stars|      date|                text|     city|state| latitude| longitude|\n",
      "+--------------------+--------------------+------------------+--------------------+-----+----------+--------------------+---------+-----+---------+----------+\n",
      "|--9e1ONYQuAa-CB_R...|7aj1xcFBYiH1Jg_OX...|              0.25|Delmonico Steakhouse|    1|2016-05-22|Ohhh where to bei...|Las Vegas|   NV|36.123183|-115.16919|\n",
      "|--9e1ONYQuAa-CB_R...|7dVUVdmWIIXQ5KtF_...|              0.75|Delmonico Steakhouse|    5|2016-11-26|This is my third ...|Las Vegas|   NV|36.123183|-115.16919|\n",
      "|--9e1ONYQuAa-CB_R...|UxFpgng8dPMWOj996...|               1.0|Delmonico Steakhouse|    5|2016-02-10|Truly Fantastic  ...|Las Vegas|   NV|36.123183|-115.16919|\n",
      "|--9e1ONYQuAa-CB_R...|i7xD3FY-EaF9O08QL...|               1.0|Delmonico Steakhouse|    5|2016-04-01|Absolutely impres...|Las Vegas|   NV|36.123183|-115.16919|\n",
      "|--9e1ONYQuAa-CB_R...|sTHM4r9njebk0JFyE...|0.3333333333333333|Delmonico Steakhouse|    2|2016-06-12|My companion thou...|Las Vegas|   NV|36.123183|-115.16919|\n",
      "+--------------------+--------------------+------------------+--------------------+-----+----------+--------------------+---------+-----+---------+----------+\n",
      "only showing top 5 rows\n",
      "\n"
     ]
    }
   ],
   "source": [
    "reviews_business = reviews_sentiment_df.\\\n",
    "    join(businessDF, 'business_id')    \n",
    "reviews_business.show(5)"
   ]
  },
  {
   "cell_type": "code",
   "execution_count": 206,
   "metadata": {},
   "outputs": [
    {
     "data": {
      "text/plain": [
       "['business_id',\n",
       " 'review_id',\n",
       " 'avg_sentiment',\n",
       " 'business_name',\n",
       " 'stars',\n",
       " 'date',\n",
       " 'text',\n",
       " 'city',\n",
       " 'state',\n",
       " 'latitude',\n",
       " 'longitude']"
      ]
     },
     "execution_count": 206,
     "metadata": {},
     "output_type": "execute_result"
    }
   ],
   "source": [
    "reviews_business.columns"
   ]
  },
  {
   "cell_type": "code",
   "execution_count": 211,
   "metadata": {},
   "outputs": [
    {
     "name": "stdout",
     "output_type": "stream",
     "text": [
      "+--------------------+--------------+------------------+\n",
      "|       business_name|          city|     avg_sentiment|\n",
      "+--------------------+--------------+------------------+\n",
      "|        John's Diner|      Lakewood|0.5714285714285714|\n",
      "|Lo-Lo's Chicken a...|       Gilbert|0.4166322779619457|\n",
      "|         Chick-fil-A|Cuyahoga Falls|0.7999999999999999|\n",
      "|        Yala's Pizza|        Lorain|0.6296296296296297|\n",
      "|   The Flame Broiler|     Las Vegas| 0.761476370851371|\n",
      "+--------------------+--------------+------------------+\n",
      "only showing top 5 rows\n",
      "\n"
     ]
    }
   ],
   "source": [
    "reviews_sentiment_score_df =  reviews_business.\\\n",
    "    groupBy('business_name', 'city').\\\n",
    "    agg(fn.mean('avg_sentiment').alias('avg_sentiment'))\n",
    "reviews_sentiment_score_df.show(5)"
   ]
  },
  {
   "cell_type": "code",
   "execution_count": 215,
   "metadata": {},
   "outputs": [
    {
     "name": "stdout",
     "output_type": "stream",
     "text": [
      "+--------------------+--------------+------------------+\n",
      "|       business_name|          city|            rating|\n",
      "+--------------------+--------------+------------------+\n",
      "|        John's Diner|      Lakewood|               3.5|\n",
      "|Lo-Lo's Chicken a...|       Gilbert|3.2479338842975207|\n",
      "|         Chick-fil-A|Cuyahoga Falls| 4.333333333333333|\n",
      "|        Yala's Pizza|        Lorain|               4.0|\n",
      "|   The Flame Broiler|     Las Vegas|               4.5|\n",
      "+--------------------+--------------+------------------+\n",
      "only showing top 5 rows\n",
      "\n"
     ]
    }
   ],
   "source": [
    "reviews_avg_rating_df =  reviews_business.\\\n",
    "    groupBy('business_name', 'city').\\\n",
    "    agg(fn.mean('stars').alias('rating'))\n",
    "reviews_avg_rating_df.show(5)"
   ]
  },
  {
   "cell_type": "code",
   "execution_count": 218,
   "metadata": {},
   "outputs": [
    {
     "name": "stdout",
     "output_type": "stream",
     "text": [
      "+--------------------+-------------+------------------+------------------+\n",
      "|       business_name|         city|     avg_sentiment|            rating|\n",
      "+--------------------+-------------+------------------+------------------+\n",
      "|        Adobo Dragon|      Phoenix|0.6154109309189524|4.0606060606060606|\n",
      "|Ahnala Mesquite Room|Fort McDowell|0.5095238095238096|               3.6|\n",
      "|     Ahuja Cafeteria|    Beachwood|0.3333333333333333|               1.5|\n",
      "|  Allegro Fine Foods|       Bolton|0.7222222222222222| 4.666666666666667|\n",
      "|       Allo Mon Coco|Pointe-Claire|0.4857142857142857|               4.5|\n",
      "+--------------------+-------------+------------------+------------------+\n",
      "only showing top 5 rows\n",
      "\n"
     ]
    }
   ],
   "source": [
    "reviews_avg_rating_df = reviews_avg_rating_df.select('business_name', 'rating')\n",
    "sentiment_rating = reviews_sentiment_score_df.\\\n",
    "    join(reviews_avg_rating_df, 'business_name')\n",
    "sentiment_rating.show(5)"
   ]
  },
  {
   "cell_type": "code",
   "execution_count": 220,
   "metadata": {},
   "outputs": [],
   "source": [
    "outputpath=\"gs://pda-yelp-bucket/output/sentimentScore/\"\n",
    "sentiment_rating.coalesce(1).write.save(outputpath,sep=\",\",mode=\"append\",format=\"csv\",header=\"TRUE\")\n"
   ]
  },
  {
   "cell_type": "code",
   "execution_count": null,
   "metadata": {},
   "outputs": [],
   "source": []
  }
 ],
 "metadata": {
  "kernelspec": {
   "display_name": "PySpark",
   "language": "python",
   "name": "pyspark"
  },
  "language_info": {
   "codemirror_mode": {
    "name": "ipython",
    "version": 2
   },
   "file_extension": ".py",
   "mimetype": "text/x-python",
   "name": "python",
   "nbconvert_exporter": "python",
   "pygments_lexer": "ipython2",
   "version": "2.7.14"
  }
 },
 "nbformat": 4,
 "nbformat_minor": 2
}